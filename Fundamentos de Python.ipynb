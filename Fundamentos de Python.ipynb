{
 "cells": [
  {
   "cell_type": "code",
   "execution_count": 1,
   "metadata": {},
   "outputs": [
    {
     "name": "stdout",
     "output_type": "stream",
     "text": [
      "Hola desde Jupyter Notebook\n"
     ]
    }
   ],
   "source": [
    "print(\"Hola desde Jupyter Notebook\")"
   ]
  },
  {
   "cell_type": "markdown",
   "metadata": {},
   "source": [
    "# Uso de Variables\n",
    "## Manejo de las Variables más utilizadas en PYTHON\n",
    "En este bloque veremos los siguientes tipos de datos\n",
    "- Numerica\n",
    "- Cadena\n",
    "- Decimal\n",
    "- Logica"
   ]
  },
  {
   "cell_type": "code",
   "execution_count": 2,
   "metadata": {},
   "outputs": [
    {
     "name": "stdout",
     "output_type": "stream",
     "text": [
      "<class 'int'>\n",
      "<class 'str'>\n",
      "<class 'float'>\n",
      "<class 'bool'>\n"
     ]
    }
   ],
   "source": [
    "# Variable Numerica\n",
    "edad = 28\n",
    "# Variable Cadena\n",
    "nombre = \"Armando Ruiz\"\n",
    "# Variable Decimal\n",
    "precio = 20.8\n",
    "# Variable Lógica\n",
    "Estado = True\n",
    "\n",
    "print(type(edad))\n",
    "print(type(nombre))\n",
    "print(type(precio))\n",
    "print(type(Estado))"
   ]
  },
  {
   "cell_type": "markdown",
   "metadata": {},
   "source": [
    "# Operaciones con Variables\n",
    "- *Suma*\n",
    "- **Resta**\n",
    "- **Division Entera**\n",
    "- **Division Decimal**\n",
    "- **Residuo de la División**"
   ]
  },
  {
   "cell_type": "code",
   "execution_count": 5,
   "metadata": {},
   "outputs": [
    {
     "name": "stdout",
     "output_type": "stream",
     "text": [
      "La Edad de Armando Ruiz es 28\n"
     ]
    }
   ],
   "source": [
    "#Concatenacion de variables\n",
    "print(\"La Edad de\",nombre,\"es\",edad)"
   ]
  },
  {
   "cell_type": "code",
   "execution_count": 7,
   "metadata": {},
   "outputs": [
    {
     "name": "stdout",
     "output_type": "stream",
     "text": [
      "4\n",
      "32\n",
      "1.6666666666666667\n",
      "1\n",
      "0\n"
     ]
    }
   ],
   "source": [
    "print(2 + 2)\n",
    "print(4 * 8)\n",
    "#Division decimal\n",
    "print(5 / 3)\n",
    "#Division entera\n",
    "print(5 // 3)\n",
    "#Residuo de la Division\n",
    "print(24 % 4)"
   ]
  },
  {
   "cell_type": "code",
   "execution_count": 8,
   "metadata": {},
   "outputs": [
    {
     "name": "stdout",
     "output_type": "stream",
     "text": [
      "Ingrese edad45\n"
     ]
    }
   ],
   "source": [
    "edad = input (\"Ingrese edad\")"
   ]
  },
  {
   "cell_type": "code",
   "execution_count": 10,
   "metadata": {},
   "outputs": [
    {
     "name": "stdout",
     "output_type": "stream",
     "text": [
      "Ingrese numero 15\n",
      "Ingrese numero 26\n",
      "el resultado de la suma es:  11\n"
     ]
    }
   ],
   "source": [
    "n1 = int(input(\"Ingrese numero 1\"))\n",
    "n2 = int(input (\"Ingrese numero 2\"))\n",
    "sumar = n1 + n2\n",
    "print (\"el resultado de la suma es: \",sumar)"
   ]
  },
  {
   "cell_type": "code",
   "execution_count": 12,
   "metadata": {},
   "outputs": [
    {
     "name": "stdout",
     "output_type": "stream",
     "text": [
      "23\n",
      "23.0\n",
      "True\n",
      "123\n",
      "False\n"
     ]
    }
   ],
   "source": [
    "# Conversión de tipo de datos\n",
    "# Convertir de numerico a string\n",
    "print(str(23))\n",
    "# Convertir de Numerico a Decimal\n",
    "print(float(23))\n",
    "# Convertir de Lógico a Cadena\n",
    "print(str(True))\n",
    "# Convertir de String a Numerico\n",
    "print(int('123'))\n",
    "#Convertir de Numerico a Logico\n",
    "print(bool(0))"
   ]
  },
  {
   "cell_type": "markdown",
   "metadata": {},
   "source": [
    "# Manejo de Colecciones\n",
    "## Listas, Diccionarios, Tuplas\n",
    "Te permiten trabajar con mas de un dato a la vez, en otros lenguajes se les conoce como ARRAYS"
   ]
  },
  {
   "cell_type": "code",
   "execution_count": 24,
   "metadata": {},
   "outputs": [
    {
     "name": "stdout",
     "output_type": "stream",
     "text": [
      "<class 'list'>\n",
      "mysql\n",
      "['python', 'nodejs', 'mysql', 'mongodb']\n",
      "['python', 'nodejs', 'jwt', 'mysql', 'mongodb', 'firebase']\n",
      "['python', 'nodejs', 'jwt', 'mysql', 'mongodb']\n",
      "['nodejs', 'jwt', 'mysql', 'mongodb']\n",
      "['nodejs', 'CLOUD', 'mysql', 'mongodb']\n"
     ]
    }
   ],
   "source": [
    "# Manejo de Listas en general\n",
    "programas =['python','nodejs','mysql','mongodb']\n",
    "print(type(programas))\n",
    "print(programas[2])\n",
    "print(programas)\n",
    "#Me permite añadir un ELEMENTO al final de la Lista\n",
    "programas.append('firebase')\n",
    "#Le indico la posicion exacta donde desees insertar\n",
    "programas.insert(2,'jwt')\n",
    "print(programas)\n",
    "#Eliminar el último valor de la lista\n",
    "programas.pop()\n",
    "print(programas)\n",
    "#Eliminar un valor especifico de la lista\n",
    "programas.pop(0)\n",
    "print(programas)\n",
    "#Modificar el valor de la posicion indicada\n",
    "programas[1]='CLOUD'\n",
    "print(programas)"
   ]
  },
  {
   "cell_type": "code",
   "execution_count": 25,
   "metadata": {},
   "outputs": [
    {
     "name": "stdout",
     "output_type": "stream",
     "text": [
      "<class 'tuple'>\n"
     ]
    }
   ],
   "source": [
    "# Manejo de Tuplas\n",
    "paises = ('USA','MEXICO','ARGENTINA')\n",
    "print(type(paises))"
   ]
  },
  {
   "cell_type": "code",
   "execution_count": 27,
   "metadata": {},
   "outputs": [
    {
     "name": "stdout",
     "output_type": "stream",
     "text": [
      "<class 'dict'>\n",
      "PEREZ\n"
     ]
    }
   ],
   "source": [
    "# Manejo de Diccionarios - KEY VALUE\n",
    "alumnos = {'A100':'GONZALES','A200':'PEREZ','A300':'RIVAS'}\n",
    "print(type(alumnos))\n",
    "print(alumnos['A200'])"
   ]
  },
  {
   "cell_type": "markdown",
   "metadata": {},
   "source": [
    "# Operadores Logicos\n",
    "- \"> Mayor\"\n",
    "- \"< Menor\"\n",
    "- \">= Mayor Igual\"\n",
    "- \"<= Menor Igual\"\n",
    "- \"!= Diferente\"\n",
    "- \"== Igual\"\n",
    "- \"AND\" y\n",
    "- \"OR\" o\n",
    "\n",
    "## Proceso Condicionales - Simples Múltiples"
   ]
  },
  {
   "cell_type": "code",
   "execution_count": 31,
   "metadata": {},
   "outputs": [
    {
     "name": "stdout",
     "output_type": "stream",
     "text": [
      "Ingrese la edad de la persona: 18\n",
      "La persona es mayor de edad\n"
     ]
    }
   ],
   "source": [
    "# Condicional Simple\n",
    "edad = int(input(\"Ingrese la edad de la persona: \"))\n",
    "if edad>=18:\n",
    "    print(\"La persona es mayor de edad\")\n",
    "else:\n",
    "    print(\"La persona es menor de edad\")"
   ]
  },
  {
   "cell_type": "code",
   "execution_count": 37,
   "metadata": {},
   "outputs": [
    {
     "name": "stdout",
     "output_type": "stream",
     "text": [
      "Ingresar Pais a evaluar: peru\n",
      "Pais errado\n"
     ]
    }
   ],
   "source": [
    "# Condicional Multipe\n",
    "pais = input(\"Ingresar Pais a evaluar: \")\n",
    "if pais == \"usa\" or pais==\"canada\":\n",
    "    print(\"Centroamerica\")\n",
    "elif pais == \"argentina\":\n",
    "    print(\"sudamerica\")\n",
    "elif pais == \"japon\":\n",
    "    print(\"asia\")\n",
    "else:\n",
    "    print(\"Pais errado\")\n",
    "\n",
    "#La gramatica es if, elif,else\n",
    "#La sintaxis es respetar las plabras reservadas or....\n"
   ]
  },
  {
   "cell_type": "code",
   "execution_count": 38,
   "metadata": {},
   "outputs": [
    {
     "name": "stdout",
     "output_type": "stream",
     "text": [
      "['False', 'None', 'True', 'and', 'as', 'assert', 'async', 'await', 'break', 'class', 'continue', 'def', 'del', 'elif', 'else', 'except', 'finally', 'for', 'from', 'global', 'if', 'import', 'in', 'is', 'lambda', 'nonlocal', 'not', 'or', 'pass', 'raise', 'return', 'try', 'while', 'with', 'yield']\n"
     ]
    }
   ],
   "source": [
    "#Palabras Reservadas\n",
    "import keyword\n",
    "print(keyword.kwlist)"
   ]
  },
  {
   "cell_type": "markdown",
   "metadata": {},
   "source": [
    "# Procesos Repetitivos\n",
    "Son bucles que nos permitiran iterar un grupo de instrucciones \"N veces\"\n",
    "- for .- Se utiliza cuando se conoce las veces que quiero que se repita la iteracion\n",
    "- while .- Se utiliza cuando se repita una iteracion hasta que se cumpla un valor logico"
   ]
  },
  {
   "cell_type": "code",
   "execution_count": 41,
   "metadata": {},
   "outputs": [
    {
     "name": "stdout",
     "output_type": "stream",
     "text": [
      "1 Hola Su Un bucle que se repite 20 veces\n",
      "2 Hola Su Un bucle que se repite 20 veces\n",
      "3 Hola Su Un bucle que se repite 20 veces\n",
      "4 Hola Su Un bucle que se repite 20 veces\n",
      "5 Hola Su Un bucle que se repite 20 veces\n",
      "6 Hola Su Un bucle que se repite 20 veces\n",
      "7 Hola Su Un bucle que se repite 20 veces\n",
      "8 Hola Su Un bucle que se repite 20 veces\n",
      "9 Hola Su Un bucle que se repite 20 veces\n",
      "10 Hola Su Un bucle que se repite 20 veces\n",
      "11 Hola Su Un bucle que se repite 20 veces\n",
      "12 Hola Su Un bucle que se repite 20 veces\n",
      "13 Hola Su Un bucle que se repite 20 veces\n",
      "14 Hola Su Un bucle que se repite 20 veces\n",
      "15 Hola Su Un bucle que se repite 20 veces\n",
      "16 Hola Su Un bucle que se repite 20 veces\n",
      "17 Hola Su Un bucle que se repite 20 veces\n",
      "18 Hola Su Un bucle que se repite 20 veces\n",
      "19 Hola Su Un bucle que se repite 20 veces\n",
      "20 Hola Su Un bucle que se repite 20 veces\n"
     ]
    }
   ],
   "source": [
    "for num in range(1,21):\n",
    "    print(num, \"Hola Su Un bucle que se repite 20 veces\")"
   ]
  },
  {
   "cell_type": "code",
   "execution_count": 44,
   "metadata": {},
   "outputs": [
    {
     "name": "stdout",
     "output_type": "stream",
     "text": [
      "Felicitaciones, tienes 0\n",
      "Felicitaciones, tienes 1\n",
      "Felicitaciones, tienes 2\n",
      "Felicitaciones, tienes 3\n",
      "Felicitaciones, tienes 4\n",
      "Felicitaciones, tienes 5\n",
      "Felicitaciones, tienes 6\n",
      "Felicitaciones, tienes 7\n",
      "Felicitaciones, tienes 8\n",
      "Felicitaciones, tienes 9\n",
      "Felicitaciones, tienes 10\n",
      "Felicitaciones, tienes 11\n",
      "Felicitaciones, tienes 12\n",
      "Felicitaciones, tienes 13\n",
      "Felicitaciones, tienes 14\n",
      "Felicitaciones, tienes 15\n",
      "Felicitaciones, tienes 16\n",
      "Felicitaciones, tienes 17\n"
     ]
    }
   ],
   "source": [
    "edad = 0\n",
    "while edad <18:\n",
    "    print(\"Felicitaciones, tienes\", edad)\n",
    "    edad = edad + 1"
   ]
  },
  {
   "cell_type": "code",
   "execution_count": null,
   "metadata": {},
   "outputs": [],
   "source": []
  }
 ],
 "metadata": {
  "kernelspec": {
   "display_name": "Python 3",
   "language": "python",
   "name": "python3"
  },
  "language_info": {
   "codemirror_mode": {
    "name": "ipython",
    "version": 3
   },
   "file_extension": ".py",
   "mimetype": "text/x-python",
   "name": "python",
   "nbconvert_exporter": "python",
   "pygments_lexer": "ipython3",
   "version": "3.8.3"
  }
 },
 "nbformat": 4,
 "nbformat_minor": 4
}
