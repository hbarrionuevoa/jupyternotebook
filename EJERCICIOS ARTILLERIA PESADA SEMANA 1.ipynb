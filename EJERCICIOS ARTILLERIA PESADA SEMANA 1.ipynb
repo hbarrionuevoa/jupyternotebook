{
 "cells": [
  {
   "cell_type": "markdown",
   "metadata": {},
   "source": []
  },
  {
   "cell_type": "code",
   "execution_count": 1,
   "metadata": {},
   "outputs": [],
   "source": [
    "def sumarlistas(numeros):\n",
    "    res=0\n",
    "    for n in numeros:\n",
    "        res+=n\n",
    "    print(res)"
   ]
  },
  {
   "cell_type": "markdown",
   "metadata": {},
   "source": []
  },
  {
   "cell_type": "code",
   "execution_count": 3,
   "metadata": {},
   "outputs": [
    {
     "name": "stdout",
     "output_type": "stream",
     "text": [
      "8\n"
     ]
    }
   ],
   "source": [
    "sumarlistas([2,2,4])"
   ]
  },
  {
   "cell_type": "markdown",
   "metadata": {},
   "source": [
    "# Ejercicio 1"
   ]
  },
  {
   "cell_type": "code",
   "execution_count": 11,
   "metadata": {},
   "outputs": [],
   "source": [
    "def comp(a,b):\n",
    "    if a>b:\n",
    "        print(a)\n",
    "    elif a<b:\n",
    "        print(b)\n",
    "    elif a==b:\n",
    "        print(\"0\")\n"
   ]
  },
  {
   "cell_type": "code",
   "execution_count": 12,
   "metadata": {},
   "outputs": [
    {
     "name": "stdout",
     "output_type": "stream",
     "text": [
      "10\n"
     ]
    }
   ],
   "source": [
    "comp(10,8)"
   ]
  },
  {
   "cell_type": "code",
   "execution_count": 13,
   "metadata": {},
   "outputs": [
    {
     "name": "stdout",
     "output_type": "stream",
     "text": [
      "9\n"
     ]
    }
   ],
   "source": [
    "comp(8,9)"
   ]
  },
  {
   "cell_type": "code",
   "execution_count": 14,
   "metadata": {},
   "outputs": [
    {
     "name": "stdout",
     "output_type": "stream",
     "text": [
      "0\n"
     ]
    }
   ],
   "source": [
    "comp(10,10)"
   ]
  },
  {
   "cell_type": "markdown",
   "metadata": {},
   "source": [
    "# Ejercicio 2"
   ]
  },
  {
   "cell_type": "code",
   "execution_count": 20,
   "metadata": {},
   "outputs": [],
   "source": [
    "def e(edad):\n",
    "    if edad>=18:\n",
    "        print(True)\n",
    "    elif edad<18:\n",
    "        print(False)"
   ]
  },
  {
   "cell_type": "code",
   "execution_count": 21,
   "metadata": {},
   "outputs": [
    {
     "name": "stdout",
     "output_type": "stream",
     "text": [
      "False\n"
     ]
    }
   ],
   "source": [
    "e(14)"
   ]
  },
  {
   "cell_type": "code",
   "execution_count": 22,
   "metadata": {},
   "outputs": [
    {
     "name": "stdout",
     "output_type": "stream",
     "text": [
      "True\n"
     ]
    }
   ],
   "source": [
    "e(18)"
   ]
  },
  {
   "cell_type": "markdown",
   "metadata": {},
   "source": [
    "# Ejercicio 3"
   ]
  },
  {
   "cell_type": "code",
   "execution_count": null,
   "metadata": {},
   "outputs": [],
   "source": [
    "def empresa():\n",
    "    emplea=int(input(\"Ingrese el numero de empleados: \"))\n",
    "    factu=int(input(\"Ingrese el monto facturado en millones de soles: \"))\n",
    "    balance=int(input(\"Ingrese el balance en millones de soles: \"))\n",
    "    if emplea<50 and factu<30 and balance<5:\n",
    "        print(True)\n",
    "    else:\n",
    "        print(False)  \n"
   ]
  },
  {
   "cell_type": "code",
   "execution_count": 25,
   "metadata": {},
   "outputs": [
    {
     "name": "stdout",
     "output_type": "stream",
     "text": [
      "Ingrese el numero de empleados41\n",
      "Ingrese el monto facturado en millones de soles15\n",
      "Ingrese el balance en millones de soles4\n",
      "True\n"
     ]
    }
   ],
   "source": [
    "empresa()"
   ]
  },
  {
   "cell_type": "code",
   "execution_count": 27,
   "metadata": {},
   "outputs": [
    {
     "name": "stdout",
     "output_type": "stream",
     "text": [
      "Ingrese el numero de empleados51\n",
      "Ingrese el monto facturado en millones de soles40\n",
      "Ingrese el balance en millones de soles6\n",
      "False\n"
     ]
    }
   ],
   "source": [
    "empresa()"
   ]
  },
  {
   "cell_type": "markdown",
   "metadata": {},
   "source": [
    "# Ejercicio 4"
   ]
  },
  {
   "cell_type": "code",
   "execution_count": 36,
   "metadata": {},
   "outputs": [],
   "source": [
    "def sueldo():\n",
    "    hor=int(input(\"Ingrese el numero de horas trabajadas: \"))\n",
    "    pag_hor=int(input(\"Ingrese el pago por hora: \"))\n",
    "    if hor<=40:\n",
    "        salario=hor*pag_hor\n",
    "        print(f\"El salario es {salario}\")\n",
    "    elif hor>40:\n",
    "        hor_tot=hor-40\n",
    "        salario=(40*pag_hor)+(hor_tot*1.5)\n",
    "        print(f\"El salario es {salario}\")\n",
    "    "
   ]
  },
  {
   "cell_type": "code",
   "execution_count": 32,
   "metadata": {},
   "outputs": [
    {
     "name": "stdout",
     "output_type": "stream",
     "text": [
      "Ingrese el numero de horas trabajadas: 40\n",
      "Ingrese el pago por hora: 5\n",
      "El salario es 200\n"
     ]
    }
   ],
   "source": [
    "sueldo()"
   ]
  },
  {
   "cell_type": "code",
   "execution_count": 37,
   "metadata": {},
   "outputs": [
    {
     "name": "stdout",
     "output_type": "stream",
     "text": [
      "Ingrese el numero de horas trabajadas: 50\n",
      "Ingrese el pago por hora: 2\n",
      "El salario es 95.0\n"
     ]
    }
   ],
   "source": [
    "sueldo()"
   ]
  },
  {
   "cell_type": "markdown",
   "metadata": {},
   "source": [
    "# Ejercicio 5"
   ]
  },
  {
   "cell_type": "code",
   "execution_count": 41,
   "metadata": {},
   "outputs": [],
   "source": [
    "def condicion():\n",
    "    nota=int(input(\"Ingrese la nota del alumno: \"))\n",
    "    if nota>=0 and nota<5:\n",
    "        print(\"SUSPENSO\")\n",
    "    elif nota>=5 and nota<7:\n",
    "        print(\"APROBADO\")\n",
    "    elif nota>=7 and nota<9:\n",
    "        print(\"NOTABLE\")\n",
    "    elif nota>=9 and nota<10:\n",
    "        print(\"SOBRESALIENTE\")\n",
    "    else:\n",
    "        print(\"VALOR INCORRECTO\")"
   ]
  },
  {
   "cell_type": "code",
   "execution_count": 42,
   "metadata": {},
   "outputs": [
    {
     "name": "stdout",
     "output_type": "stream",
     "text": [
      "Ingrese la nota del alumno: 2\n",
      "SUSPENSO\n"
     ]
    }
   ],
   "source": [
    "condicion()"
   ]
  },
  {
   "cell_type": "code",
   "execution_count": 43,
   "metadata": {},
   "outputs": [
    {
     "name": "stdout",
     "output_type": "stream",
     "text": [
      "Ingrese la nota del alumno: 5\n",
      "APROBADO\n"
     ]
    }
   ],
   "source": [
    "condicion()"
   ]
  },
  {
   "cell_type": "code",
   "execution_count": 44,
   "metadata": {},
   "outputs": [
    {
     "name": "stdout",
     "output_type": "stream",
     "text": [
      "Ingrese la nota del alumno: 9\n",
      "SOBRESALIENTE\n"
     ]
    }
   ],
   "source": [
    "condicion()"
   ]
  },
  {
   "cell_type": "code",
   "execution_count": 45,
   "metadata": {},
   "outputs": [
    {
     "name": "stdout",
     "output_type": "stream",
     "text": [
      "Ingrese la nota del alumno: 12\n",
      "VALOR INCORRECTO\n"
     ]
    }
   ],
   "source": [
    "condicion()"
   ]
  },
  {
   "cell_type": "markdown",
   "metadata": {},
   "source": [
    "# Ejercicio 6"
   ]
  },
  {
   "cell_type": "code",
   "execution_count": 48,
   "metadata": {},
   "outputs": [],
   "source": [
    "def sueldo_inicial():\n",
    "    ht=int(input(\"Ingrese las horas trabajadas: \"))\n",
    "    valor_ht=int(input(\"Ingrese el pago por hora trabajada: \"))\n",
    "    pago=ht*valor_ht\n",
    "    desc_ss=0.0935*pago\n",
    "    boni=0.02*pago\n",
    "    sueldo_inicial=pago+boni-desc_ss\n",
    "    print(f\"El sueldo a percibir es {sueldo_inicial}\")"
   ]
  },
  {
   "cell_type": "code",
   "execution_count": 49,
   "metadata": {},
   "outputs": [
    {
     "name": "stdout",
     "output_type": "stream",
     "text": [
      "Ingrese las horas trabajadas: 10\n",
      "Ingrese el pago por hora trabajada: 5\n",
      "El sueldo a percibir es 46.325\n"
     ]
    }
   ],
   "source": [
    "sueldo_inicial()"
   ]
  },
  {
   "cell_type": "markdown",
   "metadata": {},
   "source": [
    "# Ejercicio 7"
   ]
  },
  {
   "cell_type": "code",
   "execution_count": 58,
   "metadata": {},
   "outputs": [],
   "source": [
    "def imc():\n",
    "    peso=int(input(\"Ingrese el peso del paciente en kg: \"))\n",
    "    altura=int(input(\"Ingrese la altura del paciente en cm: \"))\n",
    "    imc_1=peso/((altura/100)**2)\n",
    "    print(f\"El indice de masa corporal es {imc_1:0.2f}\")"
   ]
  },
  {
   "cell_type": "code",
   "execution_count": 59,
   "metadata": {},
   "outputs": [
    {
     "name": "stdout",
     "output_type": "stream",
     "text": [
      "Ingrese el peso del paciente en kg: 90\n",
      "Ingrese la altura del paciente en cm: 175\n",
      "El indice de masa corporal es 29.39\n"
     ]
    }
   ],
   "source": [
    "imc()"
   ]
  },
  {
   "cell_type": "code",
   "execution_count": 70,
   "metadata": {},
   "outputs": [
    {
     "name": "stdout",
     "output_type": "stream",
     "text": [
      "Ingrese cuantos numeros aleatorios desea obtener: 30\n",
      "[1, 11, 8, 6, 0, 4, 3, 9, 17, 1, 5, 13, 7, 19, 4, 1, 4, 20, 4, 13, 17, 10, 8, 15, 3, 19, 1, 13, 16, 0]\n"
     ]
    }
   ],
   "source": [
    "import random\n",
    "\n",
    "def listaAleatorios(n):\n",
    "      lista = [0]  * n\n",
    "      for i in range(n):\n",
    "          lista[i] = random.randint(0, 20)\n",
    "      return lista\n",
    "        \n",
    "\n",
    "n=int(input(\"Ingrese cuantos numeros aleatorios desea obtener: \"))\n",
    "\n",
    "aleatorios=listaAleatorios(n)\n",
    "print(f\"{aleatorios}\")"
   ]
  },
  {
   "cell_type": "code",
   "execution_count": 81,
   "metadata": {},
   "outputs": [
    {
     "name": "stdout",
     "output_type": "stream",
     "text": [
      "[8, 1, 3, 19, 1, 13, 3, 1, 3, 18, 7, 2, 1, 15, 11, 19, 18, 9, 16, 1, 6, 19, 18, 8, 17, 5, 10, 0, 10, 17]\n",
      "Deficientes -> 11\n",
      "Regulares -> 7\n",
      "Buenos -> 3\n",
      "Excelentes -> 9\n"
     ]
    }
   ],
   "source": [
    "import random\n",
    "notas=[]\n",
    "for i in range(0,30):\n",
    "    notas.append(random.randint(0,20))\n",
    "print(notas)\n",
    "defi = 0\n",
    "regu = 0\n",
    "buen = 0\n",
    "exce = 0\n",
    "for x in notas:\n",
    "    if x>=0 and x<=5:\n",
    "        defi += 1\n",
    "    elif x>5 and x<=10:\n",
    "        regu +=1\n",
    "    elif x>10 and x<=15:\n",
    "        buen +=1\n",
    "    elif x>15 and x<=20:\n",
    "        exce+=1\n",
    "print(f\"Deficientes -> {defi}\")\n",
    "print(f\"Regulares -> {regu}\")\n",
    "print(f\"Buenos -> {buen}\")\n",
    "print(f\"Excelentes -> {exce}\")"
   ]
  },
  {
   "cell_type": "code",
   "execution_count": 120,
   "metadata": {},
   "outputs": [
    {
     "name": "stdout",
     "output_type": "stream",
     "text": [
      "Ingrese la palabra: juan\n",
      "Ingrese la palabra: lukass\n",
      "Ingrese la palabra: loer\n",
      "Ingrese la palabra: pedro\n",
      "Ingrese la palabra: pablo\n",
      "Ingrese la palabra: ruiz\n",
      "Ingrese la palabra: maria\n",
      "Ingrese la palabra: mateo\n",
      "Ingrese la palabra: marcos\n",
      "Ingrese la palabra: tere\n",
      "Ingrese el texto a buscar: f\n",
      "Ingrese el texto a buscar: g\n",
      "Ingrese el texto a buscar: juan\n",
      "El texto coincide con la busqueda\n",
      "Ingrese el texto a buscar: loer\n",
      "El texto coincide con la busqueda\n",
      "Ingrese el texto a buscar: marcos\n",
      "El texto coincide con la busqueda\n",
      "Ingrese el texto a buscar: fin\n",
      "Fin del Programa\n"
     ]
    }
   ],
   "source": [
    "palabras=[]\n",
    "for x in range (0,10):\n",
    "    e=input(\"Ingrese la palabra: \")\n",
    "    palabras.append(e)\n",
    "    \n",
    "while True:\n",
    "    busqueda=input(\"Ingrese el texto a buscar: \") \n",
    "    if busqueda==\"fin\":\n",
    "        print(\"Fin del Programa\")\n",
    "        break\n",
    "    for i in palabras:\n",
    "        if busqueda == i:\n",
    "            print(\"El texto coincide con la busqueda\")"
   ]
  },
  {
   "cell_type": "markdown",
   "metadata": {},
   "source": [
    "# Ejercicio 10"
   ]
  },
  {
   "cell_type": "code",
   "execution_count": 62,
   "metadata": {},
   "outputs": [
    {
     "name": "stdout",
     "output_type": "stream",
     "text": [
      "Seleccione una de las opciones:\n",
      " 1 - Añadir nuevo nombre\n",
      " 2 - Mostrar todos los nombres\n",
      " 3 - Buscar telefono\n",
      " 4 - Salir\n",
      "Ingrese su opción: 4\n",
      "Fin del programa\n"
     ]
    }
   ],
   "source": [
    "datos=[\n",
    "    {'Juan':'1234'},\n",
    "    {'Mateo':'5678'},\n",
    "    {'Luis':'9876'},\n",
    "    {'Marcos':'5432'},\n",
    "    {'Lucas':'3333'},\n",
    "    {'Maria':'2222'},\n",
    "    {'Lisa':'6666'},\n",
    "    {'Tika':'7777'},\n",
    "    {'Lucia':'8888'},\n",
    "    {'Lorena':'9999'}  \n",
    "]\n",
    "\n",
    "print(\"Seleccione una de las opciones:\")\n",
    "print(\" 1 - Añadir nuevo nombre\")\n",
    "print(\" 2 - Mostrar todos los nombres\")\n",
    "print(\" 3 - Buscar telefono\")\n",
    "print(\" 4 - Salir\")\n",
    "while True:\n",
    "    opcion=input(\"Ingrese su opción: \")\n",
    "    if opcion==\"1\":\n",
    "        x=input(\"Ingrese el nombre: \")\n",
    "        y=input(\"Ingrese el numero de telefono: \")\n",
    "        datos.append({x:y})\n",
    "    if opcion==\"2\":\n",
    "        for i in datos:\n",
    "            for k,v in i.items():\n",
    "                print(k)\n",
    "    if opcion==\"3\":\n",
    "        a=input(\"Ingrese el nombre de la Persona: \")\n",
    "        for i in datos:\n",
    "            for k,v in i.items():\n",
    "                if a==k:\n",
    "                    print(f\"El numero de la persona {a} es {v}\")\n",
    "    if opcion==\"4\":\n",
    "        break\n",
    "print(\"Fin del programa\")                "
   ]
  },
  {
   "cell_type": "code",
   "execution_count": null,
   "metadata": {},
   "outputs": [],
   "source": []
  }
 ],
 "metadata": {
  "kernelspec": {
   "display_name": "Python 3",
   "language": "python",
   "name": "python3"
  },
  "language_info": {
   "codemirror_mode": {
    "name": "ipython",
    "version": 3
   },
   "file_extension": ".py",
   "mimetype": "text/x-python",
   "name": "python",
   "nbconvert_exporter": "python",
   "pygments_lexer": "ipython3",
   "version": "3.8.3"
  }
 },
 "nbformat": 4,
 "nbformat_minor": 4
}
