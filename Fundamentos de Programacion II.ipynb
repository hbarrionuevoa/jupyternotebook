{
 "cells": [
  {
   "cell_type": "markdown",
   "metadata": {},
   "source": [
    "# Variables Operadores de comparación y lógicos\n",
    "- Las variables son nombres de objetos que residen en memoria\n",
    "- Una variable puede ser nombrada como gustes\n",
    " - El primer caracter de la variable no puede ser un número\n",
    " - No usar simbolos especiales ! , @ # $ % etc.\n",
    " - No debe ser nombrada igual que una palabra reservada\n",
    " - A las variables hay que asignarles un tipo de datos y un valor con el signo =\n",
    " - La variable asignada deberia ir al lado izquierdo del = y el valor a asignar al lado derecho\n",
    " - Python sugiere que los nombres de las variables sean de tipo snake_case esto se refiere a nombre en minusculas separados        entre palabras por un guión bajo, por ejemplo el nombre de un estudiante\n",
    " - Tipo Camel Case inician con mayuscula el nombre de cada palabra\n",
    " "
   ]
  },
  {
   "cell_type": "code",
   "execution_count": 1,
   "metadata": {},
   "outputs": [],
   "source": [
    "# Variable de tipo string\n",
    "nombre =\"Armando\"\n",
    "# Variable tipo entero\n",
    "edad = 28\n",
    "# variable de tipo decimal\n",
    "precio = 20.8\n",
    "# Variable de tipo booleano\n",
    "aprobado = True\n",
    "# Tipo Lista\n",
    "notas = [20,18,17]\n",
    "# Tipo tupla\n",
    "cursos = ('python','django','flask')\n",
    "#Tipo diccionarios\n",
    "empleado = {\"A100\":\"GOMEZ\",\"A200\":\"RUIZ\"}\n",
    "\n",
    "nombre_estudiante=\"Armando Ruiz\"\n",
    "NombreEstudiante=\"Armando Ruiz\""
   ]
  },
  {
   "cell_type": "code",
   "execution_count": 2,
   "metadata": {},
   "outputs": [
    {
     "name": "stdout",
     "output_type": "stream",
     "text": [
      "13\n"
     ]
    }
   ],
   "source": [
    "# Procedencia de los Operadores\n",
    "# ORden de los Operadores\n",
    "#EXPONENTE\n",
    "#NEGACION\n",
    "#MULTIPLICACION,DIVISION,DIVISION ENTERA,MODULO\n",
    "#SUMA, RESTA\n",
    "x= 3 * 2 + 7\n",
    "print(x)"
   ]
  },
  {
   "cell_type": "code",
   "execution_count": 3,
   "metadata": {},
   "outputs": [
    {
     "name": "stdout",
     "output_type": "stream",
     "text": [
      "200.0\n"
     ]
    }
   ],
   "source": [
    "Y=300/300*200\n",
    "print (Y)"
   ]
  },
  {
   "cell_type": "code",
   "execution_count": 4,
   "metadata": {},
   "outputs": [
    {
     "data": {
      "text/plain": [
       "200.0"
      ]
     },
     "execution_count": 4,
     "metadata": {},
     "output_type": "execute_result"
    }
   ],
   "source": [
    "300*200/300"
   ]
  },
  {
   "cell_type": "code",
   "execution_count": 5,
   "metadata": {},
   "outputs": [
    {
     "data": {
      "text/plain": [
       "8"
      ]
     },
     "execution_count": 5,
     "metadata": {},
     "output_type": "execute_result"
    }
   ],
   "source": [
    "# El exponente calcula dos elevado a la tres\n",
    "2**3"
   ]
  },
  {
   "cell_type": "markdown",
   "metadata": {},
   "source": [
    "# Formatos en Python"
   ]
  },
  {
   "cell_type": "code",
   "execution_count": 8,
   "metadata": {},
   "outputs": [
    {
     "name": "stdout",
     "output_type": "stream",
     "text": [
      "Armando tiene 43\n",
      "Armando tiene 43\n"
     ]
    }
   ],
   "source": [
    "# %s STRING\n",
    "# %d INTEGER\n",
    "# %f FLOAT\n",
    "\n",
    "mentor = \"Armando\"\n",
    "curso =\"Python\"\n",
    "edad = 43\n",
    "salario = 1700\n",
    "print(\"%s tiene %d\" %(mentor,edad))\n",
    "print(mentor,\"tiene\",edad)"
   ]
  },
  {
   "cell_type": "code",
   "execution_count": 13,
   "metadata": {},
   "outputs": [
    {
     "name": "stdout",
     "output_type": "stream",
     "text": [
      "Ingrese el monto a consumir: 1200\n",
      "El descuento: 240.0, El impuesto 180.0, El total 1140.0\n"
     ]
    }
   ],
   "source": [
    "consumo = float(input(\"Ingrese el monto a consumir: \"))\n",
    "if consumo <=100:\n",
    "    des=consumo*0.10\n",
    "else:\n",
    "    des=consumo*0.20\n",
    "imp = consumo * 0.15\n",
    "total = (consumo - des) +imp\n",
    "print (\"El descuento: {}, El impuesto {}, El total {}\".format(des,imp,total))"
   ]
  },
  {
   "cell_type": "markdown",
   "metadata": {},
   "source": [
    "# Procesos Repetitivos\n",
    " - **break** : salir del bucle\n",
    " - **continue** : seguir el proceso"
   ]
  },
  {
   "cell_type": "code",
   "execution_count": 16,
   "metadata": {},
   "outputs": [
    {
     "name": "stdout",
     "output_type": "stream",
     "text": [
      "Aun no llega a 10 1\n",
      "Aun no llega a 10 2\n",
      "Aun no llega a 10 3\n",
      "Aun no llega a 10 4\n",
      "Aun no llega a 10 5\n",
      "Aun no llega a 10 6\n",
      "Aun no llega a 10 7\n",
      "Aun no llega a 10 8\n",
      "Aun no llega a 10 9\n"
     ]
    }
   ],
   "source": [
    "for i in range (1,11):\n",
    "    if i==10:\n",
    "        break\n",
    "    else:\n",
    "        print(\"Aun no llega a 10\",i)\n",
    "        continue\n"
   ]
  },
  {
   "cell_type": "code",
   "execution_count": 20,
   "metadata": {},
   "outputs": [
    {
     "name": "stdout",
     "output_type": "stream",
     "text": [
      "Ingrese valores200\n",
      "Ingrese valores300\n",
      "Ingrese valores100\n",
      "Ingrese valores100\n",
      "Ingrese valores100\n",
      "Cantidad de valores ingresados: 5\n",
      "Suma de esos valores: 800\n"
     ]
    }
   ],
   "source": [
    "#Contadores\n",
    "#Acumuladores\n",
    "c=0\n",
    "sum = 0\n",
    "for i in range (5):\n",
    "    valor = int(input(\"Ingrese valores\"))\n",
    "    c +=1   #TRABAJAR CON UN CONTADOR DENTRO DE UN BUCLE\n",
    "    sum += valor   # TRABAJAR CON UN ACUMULADOR DE UN BUCLE\n",
    "print(\"Cantidad de valores ingresados:\",c)\n",
    "print(\"Suma de esos valores:\" ,sum)"
   ]
  },
  {
   "cell_type": "code",
   "execution_count": 21,
   "metadata": {},
   "outputs": [
    {
     "name": "stdout",
     "output_type": "stream",
     "text": [
      "['python', 'django', 'flask']\n"
     ]
    }
   ],
   "source": [
    "cursos =['python','django','flask']\n",
    "print(cursos)"
   ]
  },
  {
   "cell_type": "code",
   "execution_count": 22,
   "metadata": {},
   "outputs": [
    {
     "name": "stdout",
     "output_type": "stream",
     "text": [
      "Yo estudio estos cursos python\n",
      "Yo estudio estos cursos django\n",
      "Yo estudio estos cursos flask\n"
     ]
    }
   ],
   "source": [
    "for item in cursos:\n",
    "    print(\"Yo estudio estos cursos\",item)"
   ]
  },
  {
   "cell_type": "code",
   "execution_count": 24,
   "metadata": {},
   "outputs": [
    {
     "name": "stdout",
     "output_type": "stream",
     "text": [
      "Ingrese la Palabra: esteban\n",
      "La Vocal a aparece1 veces\n",
      "La Vocal e aparece2 veces\n",
      "La Vocal i aparece0 veces\n",
      "La Vocal o aparece0 veces\n",
      "La Vocal u aparece0 veces\n"
     ]
    }
   ],
   "source": [
    "#ESCRIBIR UN PROGRAMA QUE PIDA AL USUARIO UNA PALABRA Y MUESTRE POR PANTALLA EL NUMERO DE VECES QUE CONTIENE UNA VOCAL\n",
    "palabra = input(\"Ingrese la Palabra: \")\n",
    "vocales = ['a','e','i','o','u']\n",
    "for vocal in vocales:\n",
    "    con=0\n",
    "    for letra in palabra:\n",
    "        if letra == vocal:\n",
    "            con+=1\n",
    "    print(\"La Vocal \"+ vocal +\" aparece\" + str(con)+ \" veces\")"
   ]
  },
  {
   "cell_type": "code",
   "execution_count": 29,
   "metadata": {},
   "outputs": [
    {
     "name": "stdout",
     "output_type": "stream",
     "text": [
      "Ingrese la contraseña para entrar al sistemacodigo\n",
      "Bienvenido al Sistema\n"
     ]
    }
   ],
   "source": [
    "#while\n",
    "passw = \"codigo\"\n",
    "cont=0\n",
    "while True:\n",
    "    con =input(\"Ingrese la contraseña para entrar al sistema\")\n",
    "    if con==passw:\n",
    "        print(\"Bienvenido al Sistema\")\n",
    "        break\n",
    "    else:\n",
    "        print(\"La contraseña esta errada\")\n",
    "        cont+=1\n",
    "        if cont==3:\n",
    "            print(\"Supero los intentos, vuelva a intentarlo dentro de 24 horas\")\n",
    "            break"
   ]
  },
  {
   "cell_type": "code",
   "execution_count": 34,
   "metadata": {},
   "outputs": [
    {
     "name": "stdout",
     "output_type": "stream",
     "text": [
      "Ingrese contraseña:pythonesfacil\n",
      "Contraseña pythonesfacil Aceptada en el formato\n"
     ]
    }
   ],
   "source": [
    "correcto=False\n",
    "while not correcto:\n",
    "    password = input (\"Ingrese contraseña:\")\n",
    "    if len(password)<10 or len(password)>20:\n",
    "        print(\"Error La contraseña no cumple con el formato requerido\")\n",
    "    else:\n",
    "        correcto = True\n",
    "        break\n",
    "print(\"Contraseña\",password,\"Aceptada en el formato\")"
   ]
  },
  {
   "cell_type": "markdown",
   "metadata": {},
   "source": [
    "# DICCIONARIOS"
   ]
  },
  {
   "cell_type": "code",
   "execution_count": 36,
   "metadata": {},
   "outputs": [
    {
     "name": "stdout",
     "output_type": "stream",
     "text": [
      "{'bolivia': 'la paz', 'argentina': 'bns aires', 'chile': 'santiago'}\n"
     ]
    }
   ],
   "source": [
    "mi_diccionario={'bolivia':'la paz','argentina':'bns aires','chile':'santiago'}\n",
    "print(mi_diccionario)"
   ]
  },
  {
   "cell_type": "code",
   "execution_count": 37,
   "metadata": {},
   "outputs": [
    {
     "name": "stdout",
     "output_type": "stream",
     "text": [
      "santiago\n"
     ]
    }
   ],
   "source": [
    "print(mi_diccionario['chile'])"
   ]
  },
  {
   "cell_type": "code",
   "execution_count": 38,
   "metadata": {},
   "outputs": [
    {
     "name": "stdout",
     "output_type": "stream",
     "text": [
      "{'bolivia': 'la paz', 'argentina': 'bns aires', 'chile': 'santiago', 'peru': 'lima'}\n"
     ]
    }
   ],
   "source": [
    "mi_diccionario['peru']='lima'\n",
    "print(mi_diccionario)"
   ]
  },
  {
   "cell_type": "code",
   "execution_count": 39,
   "metadata": {},
   "outputs": [
    {
     "name": "stdout",
     "output_type": "stream",
     "text": [
      "{'bolivia': 'la paz', 'argentina': 'bns aires', 'peru': 'lima'}\n"
     ]
    }
   ],
   "source": [
    "del mi_diccionario['chile']\n",
    "print(mi_diccionario)"
   ]
  },
  {
   "cell_type": "code",
   "execution_count": 41,
   "metadata": {},
   "outputs": [
    {
     "name": "stdout",
     "output_type": "stream",
     "text": [
      "dict_values(['la paz', 'bns aires', 'lima'])\n",
      "dict_keys(['bolivia', 'argentina', 'peru'])\n"
     ]
    }
   ],
   "source": [
    "print(mi_diccionario.values())\n",
    "print(mi_diccionario.keys())"
   ]
  },
  {
   "cell_type": "code",
   "execution_count": 43,
   "metadata": {},
   "outputs": [],
   "source": [
    "clientes=[\n",
    "    {'nombre':'hector','apellido':'gomez','dni':'10210904'},\n",
    "    {'nombre':'manuel','apellido':'gomez','dni':'10210905'},\n",
    "    {'nombre':'pedro','apellido':'gomez','dni':'10210906'},\n",
    "    {'nombre':'maria','apellido':'gomez','dni':'10210907'},\n",
    "    {'nombre':'josefina','apellido':'gomez','dni':'10210908'}\n",
    "]"
   ]
  },
  {
   "cell_type": "code",
   "execution_count": 44,
   "metadata": {},
   "outputs": [],
   "source": [
    "def bienvenido():\n",
    "    print(\"Hola Como estas\")"
   ]
  },
  {
   "cell_type": "code",
   "execution_count": 45,
   "metadata": {},
   "outputs": [
    {
     "name": "stdout",
     "output_type": "stream",
     "text": [
      "Hola Como estas\n"
     ]
    }
   ],
   "source": [
    "bienvenido()"
   ]
  },
  {
   "cell_type": "code",
   "execution_count": 50,
   "metadata": {},
   "outputs": [],
   "source": [
    "def buscar_clientes(clie,dni):\n",
    "    for c in clie:\n",
    "        if (dni==c['dni']):\n",
    "            print('{} {}'.format(c['nombre'],c['apellido']))\n",
    "            break\n",
    "    print(\"Cliente no esta registrado en nuestra base de datos\")"
   ]
  },
  {
   "cell_type": "code",
   "execution_count": 54,
   "metadata": {},
   "outputs": [
    {
     "name": "stdout",
     "output_type": "stream",
     "text": [
      "hectorgomez\n",
      "Cliente no esta registrado en nuestra base de datos\n"
     ]
    }
   ],
   "source": [
    "buscar_clientes(clientes,'10210904')"
   ]
  },
  {
   "cell_type": "code",
   "execution_count": 51,
   "metadata": {},
   "outputs": [
    {
     "name": "stdout",
     "output_type": "stream",
     "text": [
      "mariagomez\n",
      "Cliente no esta registrado en nuestra base de datos\n"
     ]
    }
   ],
   "source": [
    "buscar_clientes(clientes,'10210907')"
   ]
  },
  {
   "cell_type": "code",
   "execution_count": 52,
   "metadata": {},
   "outputs": [
    {
     "name": "stdout",
     "output_type": "stream",
     "text": [
      "josefinagomez\n",
      "Cliente no esta registrado en nuestra base de datos\n"
     ]
    }
   ],
   "source": [
    "buscar_clientes(clientes,'10210908')"
   ]
  },
  {
   "cell_type": "code",
   "execution_count": 53,
   "metadata": {},
   "outputs": [
    {
     "name": "stdout",
     "output_type": "stream",
     "text": [
      "[4, 8]\n"
     ]
    }
   ],
   "source": [
    "# Construir una nueva lista que multiplique por dos, solo los numeros pares de una lista antigua\n",
    "numeros=[1,2,3,4,5]\n",
    "numeros_pares_doblados=[]\n",
    "for n in numeros:\n",
    "    if(n % 2 == 0):\n",
    "        numeros_pares_doblados.append(n*2)\n",
    "print(numeros_pares_doblados)"
   ]
  },
  {
   "cell_type": "markdown",
   "metadata": {},
   "source": [
    "# Comprension de Listas"
   ]
  },
  {
   "cell_type": "code",
   "execution_count": 56,
   "metadata": {},
   "outputs": [
    {
     "name": "stdout",
     "output_type": "stream",
     "text": [
      "[4, 8]\n"
     ]
    }
   ],
   "source": [
    "#[expresion for item in lista condicional]\n",
    "numeros_pares_doblados=[n*2 for n in numeros if n%2==0]\n",
    "print(numeros_pares_doblados)"
   ]
  },
  {
   "cell_type": "markdown",
   "metadata": {},
   "source": [
    "# Separador\n",
    "- Puede mostrar cualquier caracter entre los argumentos"
   ]
  },
  {
   "cell_type": "code",
   "execution_count": 57,
   "metadata": {},
   "outputs": [
    {
     "name": "stdout",
     "output_type": "stream",
     "text": [
      "Hola<->Mundo\n"
     ]
    }
   ],
   "source": [
    "print(\"Hola\",\"Mundo\",sep='<->')\n",
    "print(\"hola\", end=\"\")"
   ]
  },
  {
   "cell_type": "code",
   "execution_count": 60,
   "metadata": {},
   "outputs": [
    {
     "name": "stdout",
     "output_type": "stream",
     "text": [
      "Saltos de linea. viene un salto \n",
      "\n",
      "\n",
      "\t tabulador \n",
      "\n",
      "\n",
      "comillas .comillas dentro: \"Hola\" \n"
     ]
    }
   ],
   "source": [
    "print(\"Saltos de linea. viene un salto \\n\\n\")\n",
    "print(\"\\t tabulador \\n\\n\")\n",
    "print(\"comillas .comillas dentro: \\\"Hola\\\" \")"
   ]
  },
  {
   "cell_type": "code",
   "execution_count": null,
   "metadata": {},
   "outputs": [],
   "source": []
  }
 ],
 "metadata": {
  "kernelspec": {
   "display_name": "Python 3",
   "language": "python",
   "name": "python3"
  },
  "language_info": {
   "codemirror_mode": {
    "name": "ipython",
    "version": 3
   },
   "file_extension": ".py",
   "mimetype": "text/x-python",
   "name": "python",
   "nbconvert_exporter": "python",
   "pygments_lexer": "ipython3",
   "version": "3.8.3"
  }
 },
 "nbformat": 4,
 "nbformat_minor": 4
}
