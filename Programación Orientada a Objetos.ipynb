{
 "cells": [
  {
   "cell_type": "markdown",
   "metadata": {},
   "source": [
    "## POO"
   ]
  },
  {
   "cell_type": "code",
   "execution_count": 16,
   "metadata": {},
   "outputs": [
    {
     "name": "stdout",
     "output_type": "stream",
     "text": [
      "<__main__.miprimeraclase object at 0x07F06760>\n",
      "<__main__.miprimeraclase object at 0x07F06628>\n",
      "Imprimiendo las caracteristicas del objeto : SO:Android, COLOR:Plateado, PRECIO:750\n",
      "Imprimiendo las caracteristicas del objeto : SO:Ios, COLOR:Blanco, PRECIO:1750\n",
      "Imprimiendo las caracteristicas del objeto : SO:Windows, COLOR:Negro, PRECIO:2750\n",
      "El precio esta al alcance del bolsillo, aprovecha\n",
      "None\n",
      "El precio del equipo es relativamente caro\n",
      "El precio del equipo es relativamente caro\n",
      "{'so': 'Windows', 'color': 'Negro', 'precio': 2750}\n"
     ]
    }
   ],
   "source": [
    "class Miprimeraclase:\n",
    "    pass\n",
    "\n",
    "#Instanciando nuestra clase\n",
    "a=miprimeraclase()\n",
    "b=miprimeraclase()\n",
    "print(a)\n",
    "print(b)\n",
    "\n",
    "#El método __init__ se utiliza para asignar valores a las propiedades del objeto\n",
    "#ó Otras operaciones que son necesarias cuando el objeto es creado\n",
    "#Se le conoce como constructor\n",
    "class Celular:\n",
    "    def __init__(self,so,color,precio):\n",
    "        self.so=so\n",
    "        self.color=color\n",
    "        self.precio=precio\n",
    "    \n",
    "    #Crear métodos para __str__ para imprimir mensajes, este metodo se ejecutara cuando\n",
    "    #llames o imprimas el objeto\n",
    "    def __str__(self):\n",
    "        cadena=\"SO:{0}, COLOR:{1}, PRECIO:{2}\".format(self.so,self.color,self.precio)\n",
    "        return \"Imprimiendo las caracteristicas del objeto : \"+cadena\n",
    "    \n",
    "    #Creando un metodo especifico\n",
    "    def mensajedestatus(self):\n",
    "        if self.precio>1000:\n",
    "            print(\"El precio del equipo es relativamente caro\")\n",
    "        else:\n",
    "            print(\"El precio esta al alcance del bolsillo, aprovecha\")\n",
    "        \n",
    "#Este es el objeto creado en base de la clase celular\n",
    "equipo1=celular('Android','Plateado',750)\n",
    "equipo2=celular('Ios','Blanco',1750)\n",
    "equipo3=celular('Windows','Negro',2750)\n",
    "\n",
    "#Imprimiendo los valores de los objetos\n",
    "print(equipo1)\n",
    "print(equipo2)\n",
    "print(equipo3)\n",
    "\n",
    "#Imprimiendo un metodo especifico que hemos creado - aparece un none\n",
    "print(equipo1.mensajedestatus())\n",
    "##Imprimiendo un metodo especifico que hemos creado - desaparece un none\n",
    "equipo2.mensajedestatus()\n",
    "equipo3.mensajedestatus()\n",
    "\n",
    "#El metodo __dict__ me permite ver todos los atributos que tiene el objeto y sus valores\n",
    "print(equipo3.__dict__)"
   ]
  },
  {
   "cell_type": "markdown",
   "metadata": {},
   "source": [
    "## Ejemplo de POO\n",
    "- Vamos a crear una clase Humano, y en base a esa clase vamos a crear todas las personas\n",
    "\n",
    "![Image](https://pythones.net/wp-content/uploads/2019/01/Clases-y-Objetos-min-577x1024-min.png)"
   ]
  },
  {
   "cell_type": "markdown",
   "metadata": {},
   "source": [
    "## Ejemplo 2 de POO"
   ]
  },
  {
   "cell_type": "code",
   "execution_count": 32,
   "metadata": {},
   "outputs": [],
   "source": [
    "#Crear un objeto de manera estática\n",
    "kraken = {\n",
    "    'nombre':'kraken',\n",
    "    'tipo':'marino',\n",
    "    'vida':12,\n",
    "    'resistencia':2\n",
    "}\n",
    "\n",
    "#print(kraken['nombre'])\n",
    "#print(kraken['tipo'])\n",
    "#print(kraken['vida'])\n",
    "#print(kraken['resistencia'])\n",
    "\n",
    "#Crear en base a un plantilla\n",
    "\n",
    "class Espada:\n",
    "    def __init__(self,nombre,rareza,daño,filo):\n",
    "        self.nombre=nombre\n",
    "        self.rareza=rareza\n",
    "        self.daño=daño\n",
    "        self.filo=filo\n",
    "    def atacar(self,objetivo):\n",
    "        if self.filo>0 and objetivo['vida']>0:\n",
    "            objetivo['vida']-=self.daño+objetivo['resistencia']\n",
    "            #   12               2        + 2   =4\n",
    "            #   8\n",
    "            #   4\n",
    "            #   0\n",
    "            self.filo -=2\n",
    "        elif objetivo['vida']>0:\n",
    "            print('El '+objetivo['nombre']+'Sigue vivo')\n",
    "        elif objetivo['vida']<=0:\n",
    "            print('El '+ objetivo['nombre'] +' a muerto')\n",
    "        else:\n",
    "            print(\"La espada se ha quedado sin filo\")\n",
    "\n",
    "espadavikinga=Espada('Espada vikinga','comun',6,2)\n",
    "espadaguerrera=Espada('Espada guerrera','comun',2,14)\n",
    "#print(espadavikinga.__dict__)\n",
    "\n",
    "#Comieza a atacar al monstruo\n",
    "espadaguerrera.atacar(kraken)\n",
    "#espadavikinga.atacar(kraken)\n",
    "\n",
    "#Modificaciones\n",
    "#1.Que aparezca el mensaje el objetivo esta vivo y le queda tantas vidas\n",
    "#2.Que aparezca el mensaje el objetivo esta vivo y le queda tantas vidas\n",
    "#3.Que aparezca el mensaje el objetivo esta sin vidas\n"
   ]
  },
  {
   "cell_type": "code",
   "execution_count": 34,
   "metadata": {},
   "outputs": [
    {
     "name": "stdout",
     "output_type": "stream",
     "text": [
      "Pablo,Ana,Pepe,Juana,Maria\n"
     ]
    }
   ],
   "source": [
    "# Declarar una clase llamada familia. definir como atributos el nombre del padre,\n",
    "#el nombre de la madre y una lista con los nombres de los hijos\n",
    "#Crear un metodo  __str__ que nos devuelva el nombre de los padres y sus hijos\n",
    "\n",
    "class Familia:\n",
    "    def __init__(self,padre,madre,hijos=[]):\n",
    "        self.padre=padre\n",
    "        self.madre=madre\n",
    "        self.hijos=hijos\n",
    "    def __str__(self):\n",
    "        cadena=self.padre+\",\"+self.madre\n",
    "        for item in self.hijos:\n",
    "            cadena=cadena+\",\"+item\n",
    "        return cadena\n",
    "familia1= Familia(\"Pablo\",\"Ana\",[\"Pepe\",\"Juana\",\"Maria\"])\n",
    "print(familia1)"
   ]
  },
  {
   "cell_type": "markdown",
   "metadata": {},
   "source": [
    "## Herencia\n",
    "- Nos permite heredar de una clase padre los atribtutos y metodos de otras clases hijas llamadas también clases derivadas"
   ]
  },
  {
   "cell_type": "code",
   "execution_count": 46,
   "metadata": {},
   "outputs": [
    {
     "name": "stdout",
     "output_type": "stream",
     "text": [
      "Juan Perez Ingeniero\n",
      "Maria Gonzales Abogado\n"
     ]
    }
   ],
   "source": [
    "#CLASE PADRE\n",
    "class Persona:\n",
    "    def __init__(self,nombre,apellido,ocupacion):\n",
    "        self.nombre=nombre\n",
    "        self.apellido=apellido\n",
    "        self.ocupacion=ocupacion\n",
    "    def ImprimirNombre(self):\n",
    "        print(self.nombre,self.apellido,self.ocupacion)\n",
    "    \n",
    "persona1=Persona(\"Juan\",\"Perez\",\"Ingeniero\")\n",
    "persona2=Persona(\"Maria\",\"Gonzales\",\"Abogado\")\n",
    "persona1.ImprimirNombre()\n",
    "persona2.ImprimirNombre()\n",
    "    "
   ]
  },
  {
   "cell_type": "code",
   "execution_count": 54,
   "metadata": {},
   "outputs": [
    {
     "name": "stdout",
     "output_type": "stream",
     "text": [
      "Bienvenido Maximiliano Lopez Ingeniero\n",
      "Clase  2020\n"
     ]
    }
   ],
   "source": [
    "#CLASE HIJA\n",
    "class Estudiante(Persona):\n",
    "    def __init__(self,nombre,apellido,ocupacion,año):\n",
    "        #LLAMAR A LA CLASE PADRE PERSONA\n",
    "        Persona.__init__(self,nombre,apellido,ocupacion)\n",
    "        #PROPIO ATRIBUTO DE LA CLASE ESTUDIANTE\n",
    "        self.graduacion=año\n",
    "    def bienvenida(self):\n",
    "        print(\"Bienvenido \",end=\"\")\n",
    "        #VAMOS A UTILIZAR LA FUNCION SUPER() EN LUGAR DE PERSONA\n",
    "        super().ImprimirNombre()\n",
    "        #IMPRIMIENDO EL UNICO ATRIBUTO DE LA CLASE HIJA\n",
    "        print(\"Clase \",self.graduacion)\n",
    "\n",
    "estudiante1=Estudiante(\"Maximiliano\",\"Lopez\",\"Ingeniero\",2020)\n",
    "estudiante1.bienvenida()"
   ]
  },
  {
   "cell_type": "markdown",
   "metadata": {},
   "source": [
    "## HERENCIAS MULTIPLES"
   ]
  },
  {
   "cell_type": "code",
   "execution_count": 2,
   "metadata": {},
   "outputs": [],
   "source": [
    "#CLASE BASE 1\n",
    "class Telefono:\n",
    "    def __init__(self,numero):\n",
    "        self.numero=numero\n",
    "    def telefonear(self):\n",
    "        print(\"Llamando\")\n",
    "    def colgar(self):\n",
    "        print(\"Colgando\")\n",
    "    def __str__(self):\n",
    "        return self.numero"
   ]
  },
  {
   "cell_type": "code",
   "execution_count": 3,
   "metadata": {},
   "outputs": [],
   "source": [
    "#CLASE BASE 2\n",
    "class Camara:\n",
    "    def __init__(self,mpx):\n",
    "        self.mpx=mpx\n",
    "    def fotografiar(self):\n",
    "        print(\"Estoy Fotografiando\")\n",
    "    def __str__(self):\n",
    "        return self.mpx"
   ]
  },
  {
   "cell_type": "code",
   "execution_count": 4,
   "metadata": {},
   "outputs": [],
   "source": [
    "#CLASE BASE 3\n",
    "class Reproductor:\n",
    "    def __init__(self,capacidad):\n",
    "        self.capacidad=capacidad\n",
    "    def reproducirvideo(self):\n",
    "        print(\"Reproduciendo MP4\")\n",
    "    def reproducirsonido(self):\n",
    "        print(\"Repoduciendo MP3\")\n",
    "    def __str__(self):\n",
    "        return self.capacidad"
   ]
  },
  {
   "cell_type": "code",
   "execution_count": 9,
   "metadata": {},
   "outputs": [],
   "source": [
    "#CLASE HIJA\n",
    "class Movil(Telefono,Camara,Reproductor):\n",
    "    def __init__(self,numero,mpx,capacidad):\n",
    "        Telefono.__init__(self,numero)\n",
    "        Camara.__init__(self,mpx)\n",
    "        Reproductor.__init__(self,capacidad)\n",
    "    def __str__(self):\n",
    "        return\"Numero {0},Camara{1}, Capacidad{2}\".format(Telefono.__str__(self),Camara.__str__(self),Reproductor.__str__(self))"
   ]
  },
  {
   "cell_type": "code",
   "execution_count": 10,
   "metadata": {},
   "outputs": [
    {
     "name": "stdout",
     "output_type": "stream",
     "text": [
      "Numero 92344555,Camara500px, Capacidad200\n"
     ]
    }
   ],
   "source": [
    "android=Movil('92344555','500px','200')\n",
    "print(android)"
   ]
  },
  {
   "cell_type": "code",
   "execution_count": 17,
   "metadata": {},
   "outputs": [
    {
     "name": "stdout",
     "output_type": "stream",
     "text": [
      "12\n",
      "filo\n"
     ]
    }
   ],
   "source": [
    "kraken = {\n",
    "    'nombre':'kraken',\n",
    "    'tipo':'marino',\n",
    "    'vida':12,\n",
    "    'resistencia':2\n",
    "}\n",
    "class Espada:\n",
    "    def __init__(self,nombre,rareza,daño,filo):\n",
    "        self.nombre=nombre\n",
    "        self.rareza=rareza\n",
    "        self.daño=daño\n",
    "        self.filo=filo\n",
    "    def atacar(self,objetivo):\n",
    "        if self.filo>0 and objetivo['vida']>0:\n",
    "            objetivo['vida']-=self.daño+objetivo['resistencia']\n",
    "            #   12               2        + 2   =4\n",
    "            #   8\n",
    "            #   4\n",
    "            #   0\n",
    "            self.filo -=2\n",
    "        elif objetivo['vida']>0:\n",
    "            print('El '+objetivo['nombre']+'Sigue vivo')\n",
    "        elif objetivo['vida']<=0:\n",
    "            print('El '+ objetivo['nombre'] +' a muerto')\n",
    "        else:\n",
    "            print(\"La espada se ha quedado sin filo\")\n",
    "\n",
    "espadavikinga=Espada('Espada vikinga','comun',6,2)\n",
    "espadaguerrera=Espada('Espada guerrera','comun',2,14)\n",
    "\n",
    "print(kraken['vida'])\n"
   ]
  },
  {
   "cell_type": "code",
   "execution_count": 23,
   "metadata": {},
   "outputs": [
    {
     "name": "stdout",
     "output_type": "stream",
     "text": [
      "El krakenSigue vivo\n",
      "4\n"
     ]
    }
   ],
   "source": [
    "espadavikinga.atacar(kraken)\n",
    "print(kraken['vida'])"
   ]
  },
  {
   "cell_type": "code",
   "execution_count": 24,
   "metadata": {},
   "outputs": [
    {
     "name": "stdout",
     "output_type": "stream",
     "text": [
      "El krakenSigue vivo\n",
      "4\n"
     ]
    }
   ],
   "source": [
    "espadavikinga.atacar(kraken)\n",
    "print(kraken['vida'])"
   ]
  },
  {
   "cell_type": "code",
   "execution_count": null,
   "metadata": {},
   "outputs": [],
   "source": []
  }
 ],
 "metadata": {
  "kernelspec": {
   "display_name": "Python 3",
   "language": "python",
   "name": "python3"
  },
  "language_info": {
   "codemirror_mode": {
    "name": "ipython",
    "version": 3
   },
   "file_extension": ".py",
   "mimetype": "text/x-python",
   "name": "python",
   "nbconvert_exporter": "python",
   "pygments_lexer": "ipython3",
   "version": "3.8.3"
  }
 },
 "nbformat": 4,
 "nbformat_minor": 4
}
